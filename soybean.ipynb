{
  "nbformat": 4,
  "nbformat_minor": 0,
  "metadata": {
    "colab": {
      "provenance": []
    },
    "kernelspec": {
      "name": "python3",
      "display_name": "Python 3"
    },
    "language_info": {
      "name": "python"
    }
  },
  "cells": [
    {
      "cell_type": "code",
      "execution_count": 1,
      "metadata": {
        "id": "cGH0cUz91Y_Y"
      },
      "outputs": [],
      "source": [
        "import pandas as pd\n",
        "import numpy as np\n",
        "from sklearn.model_selection import train_test_split\n",
        "from sklearn.naive_bayes import GaussianNB\n",
        "from sklearn.metrics import accuracy_score\n",
        "from sklearn.preprocessing import LabelEncoder, OneHotEncoder\n",
        "from sklearn.ensemble import RandomForestRegressor\n",
        "import matplotlib.pyplot as plt\n",
        "from sklearn.metrics import mean_absolute_error, mean_squared_error\n",
        "from keras import layers\n",
        "import tensorflow as tf\n",
        "from sklearn.preprocessing import StandardScaler\n",
        "from tensorflow.keras.models import Sequential\n",
        "from tensorflow.keras.layers import Dense\n",
        "from tensorflow.keras.utils import to_categorical"
      ]
    },
    {
      "cell_type": "code",
      "source": [
        "dataframe = pd.read_csv('/content/soybean.csv')"
      ],
      "metadata": {
        "id": "Jrb_Rdwn2Smv"
      },
      "execution_count": 2,
      "outputs": []
    },
    {
      "cell_type": "code",
      "source": [
        "dataframe"
      ],
      "metadata": {
        "colab": {
          "base_uri": "https://localhost:8080/",
          "height": 615
        },
        "id": "UDqIaYPg2Zie",
        "outputId": "080902fa-0458-4604-8b21-857b6bcdf8fe"
      },
      "execution_count": 3,
      "outputs": [
        {
          "output_type": "execute_result",
          "data": {
            "text/plain": [
              "        date plant-stand   precip     temp hail         crop-hist  \\\n",
              "0    october      normal  gt-norm     norm  yes       same-lst-yr   \n",
              "1     august      normal  gt-norm     norm  yes  same-lst-two-yrs   \n",
              "2       july      normal  gt-norm     norm  yes       same-lst-yr   \n",
              "3       july      normal  gt-norm     norm  yes       same-lst-yr   \n",
              "4    october      normal  gt-norm     norm  yes  same-lst-two-yrs   \n",
              "..       ...         ...      ...      ...  ...               ...   \n",
              "678    april           ?        ?        ?    ?                 ?   \n",
              "679    april   lt-normal        ?  lt-norm    ?     diff-lst-year   \n",
              "680     june   lt-normal        ?  lt-norm    ?     diff-lst-year   \n",
              "681    april   lt-normal        ?  lt-norm    ?       same-lst-yr   \n",
              "682     june   lt-normal        ?  lt-norm    ?       same-lst-yr   \n",
              "\n",
              "    area-damaged    severity   seed-tmt germination  ... sclerotia fruit-pods  \\\n",
              "0      low-areas  pot-severe       none      90-100  ...    absent       norm   \n",
              "1      scattered      severe  fungicide       80-89  ...    absent       norm   \n",
              "2      scattered      severe  fungicide       lt-80  ...    absent       norm   \n",
              "3      scattered      severe       none       80-89  ...    absent       norm   \n",
              "4      scattered  pot-severe       none       lt-80  ...    absent       norm   \n",
              "..           ...         ...        ...         ...  ...       ...        ...   \n",
              "678  upper-areas           ?          ?           ?  ...         ?          ?   \n",
              "679    scattered           ?          ?           ?  ...         ?        dna   \n",
              "680    scattered           ?          ?           ?  ...         ?        dna   \n",
              "681  whole-field           ?          ?           ?  ...         ?        dna   \n",
              "682  whole-field           ?          ?           ?  ...         ?        dna   \n",
              "\n",
              "    fruit-spots  seed mold-growth seed-discolor seed-size shriveling   roots  \\\n",
              "0           dna  norm      absent        absent      norm     absent    norm   \n",
              "1           dna  norm      absent        absent      norm     absent    norm   \n",
              "2           dna  norm      absent        absent      norm     absent    norm   \n",
              "3           dna  norm      absent        absent      norm     absent    norm   \n",
              "4           dna  norm      absent        absent      norm     absent    norm   \n",
              "..          ...   ...         ...           ...       ...        ...     ...   \n",
              "678           ?     ?           ?             ?         ?          ?       ?   \n",
              "679           ?     ?           ?             ?         ?          ?  rotted   \n",
              "680           ?     ?           ?             ?         ?          ?  rotted   \n",
              "681           ?     ?           ?             ?         ?          ?  rotted   \n",
              "682           ?     ?           ?             ?         ?          ?  rotted   \n",
              "\n",
              "                     class  \n",
              "0    diaporthe-stem-canker  \n",
              "1    diaporthe-stem-canker  \n",
              "2    diaporthe-stem-canker  \n",
              "3    diaporthe-stem-canker  \n",
              "4    diaporthe-stem-canker  \n",
              "..                     ...  \n",
              "678           2-4-d-injury  \n",
              "679       herbicide-injury  \n",
              "680       herbicide-injury  \n",
              "681       herbicide-injury  \n",
              "682       herbicide-injury  \n",
              "\n",
              "[683 rows x 36 columns]"
            ],
            "text/html": [
              "\n",
              "  <div id=\"df-a8a8740c-58af-4eff-ac5c-df413bca9ca3\" class=\"colab-df-container\">\n",
              "    <div>\n",
              "<style scoped>\n",
              "    .dataframe tbody tr th:only-of-type {\n",
              "        vertical-align: middle;\n",
              "    }\n",
              "\n",
              "    .dataframe tbody tr th {\n",
              "        vertical-align: top;\n",
              "    }\n",
              "\n",
              "    .dataframe thead th {\n",
              "        text-align: right;\n",
              "    }\n",
              "</style>\n",
              "<table border=\"1\" class=\"dataframe\">\n",
              "  <thead>\n",
              "    <tr style=\"text-align: right;\">\n",
              "      <th></th>\n",
              "      <th>date</th>\n",
              "      <th>plant-stand</th>\n",
              "      <th>precip</th>\n",
              "      <th>temp</th>\n",
              "      <th>hail</th>\n",
              "      <th>crop-hist</th>\n",
              "      <th>area-damaged</th>\n",
              "      <th>severity</th>\n",
              "      <th>seed-tmt</th>\n",
              "      <th>germination</th>\n",
              "      <th>...</th>\n",
              "      <th>sclerotia</th>\n",
              "      <th>fruit-pods</th>\n",
              "      <th>fruit-spots</th>\n",
              "      <th>seed</th>\n",
              "      <th>mold-growth</th>\n",
              "      <th>seed-discolor</th>\n",
              "      <th>seed-size</th>\n",
              "      <th>shriveling</th>\n",
              "      <th>roots</th>\n",
              "      <th>class</th>\n",
              "    </tr>\n",
              "  </thead>\n",
              "  <tbody>\n",
              "    <tr>\n",
              "      <th>0</th>\n",
              "      <td>october</td>\n",
              "      <td>normal</td>\n",
              "      <td>gt-norm</td>\n",
              "      <td>norm</td>\n",
              "      <td>yes</td>\n",
              "      <td>same-lst-yr</td>\n",
              "      <td>low-areas</td>\n",
              "      <td>pot-severe</td>\n",
              "      <td>none</td>\n",
              "      <td>90-100</td>\n",
              "      <td>...</td>\n",
              "      <td>absent</td>\n",
              "      <td>norm</td>\n",
              "      <td>dna</td>\n",
              "      <td>norm</td>\n",
              "      <td>absent</td>\n",
              "      <td>absent</td>\n",
              "      <td>norm</td>\n",
              "      <td>absent</td>\n",
              "      <td>norm</td>\n",
              "      <td>diaporthe-stem-canker</td>\n",
              "    </tr>\n",
              "    <tr>\n",
              "      <th>1</th>\n",
              "      <td>august</td>\n",
              "      <td>normal</td>\n",
              "      <td>gt-norm</td>\n",
              "      <td>norm</td>\n",
              "      <td>yes</td>\n",
              "      <td>same-lst-two-yrs</td>\n",
              "      <td>scattered</td>\n",
              "      <td>severe</td>\n",
              "      <td>fungicide</td>\n",
              "      <td>80-89</td>\n",
              "      <td>...</td>\n",
              "      <td>absent</td>\n",
              "      <td>norm</td>\n",
              "      <td>dna</td>\n",
              "      <td>norm</td>\n",
              "      <td>absent</td>\n",
              "      <td>absent</td>\n",
              "      <td>norm</td>\n",
              "      <td>absent</td>\n",
              "      <td>norm</td>\n",
              "      <td>diaporthe-stem-canker</td>\n",
              "    </tr>\n",
              "    <tr>\n",
              "      <th>2</th>\n",
              "      <td>july</td>\n",
              "      <td>normal</td>\n",
              "      <td>gt-norm</td>\n",
              "      <td>norm</td>\n",
              "      <td>yes</td>\n",
              "      <td>same-lst-yr</td>\n",
              "      <td>scattered</td>\n",
              "      <td>severe</td>\n",
              "      <td>fungicide</td>\n",
              "      <td>lt-80</td>\n",
              "      <td>...</td>\n",
              "      <td>absent</td>\n",
              "      <td>norm</td>\n",
              "      <td>dna</td>\n",
              "      <td>norm</td>\n",
              "      <td>absent</td>\n",
              "      <td>absent</td>\n",
              "      <td>norm</td>\n",
              "      <td>absent</td>\n",
              "      <td>norm</td>\n",
              "      <td>diaporthe-stem-canker</td>\n",
              "    </tr>\n",
              "    <tr>\n",
              "      <th>3</th>\n",
              "      <td>july</td>\n",
              "      <td>normal</td>\n",
              "      <td>gt-norm</td>\n",
              "      <td>norm</td>\n",
              "      <td>yes</td>\n",
              "      <td>same-lst-yr</td>\n",
              "      <td>scattered</td>\n",
              "      <td>severe</td>\n",
              "      <td>none</td>\n",
              "      <td>80-89</td>\n",
              "      <td>...</td>\n",
              "      <td>absent</td>\n",
              "      <td>norm</td>\n",
              "      <td>dna</td>\n",
              "      <td>norm</td>\n",
              "      <td>absent</td>\n",
              "      <td>absent</td>\n",
              "      <td>norm</td>\n",
              "      <td>absent</td>\n",
              "      <td>norm</td>\n",
              "      <td>diaporthe-stem-canker</td>\n",
              "    </tr>\n",
              "    <tr>\n",
              "      <th>4</th>\n",
              "      <td>october</td>\n",
              "      <td>normal</td>\n",
              "      <td>gt-norm</td>\n",
              "      <td>norm</td>\n",
              "      <td>yes</td>\n",
              "      <td>same-lst-two-yrs</td>\n",
              "      <td>scattered</td>\n",
              "      <td>pot-severe</td>\n",
              "      <td>none</td>\n",
              "      <td>lt-80</td>\n",
              "      <td>...</td>\n",
              "      <td>absent</td>\n",
              "      <td>norm</td>\n",
              "      <td>dna</td>\n",
              "      <td>norm</td>\n",
              "      <td>absent</td>\n",
              "      <td>absent</td>\n",
              "      <td>norm</td>\n",
              "      <td>absent</td>\n",
              "      <td>norm</td>\n",
              "      <td>diaporthe-stem-canker</td>\n",
              "    </tr>\n",
              "    <tr>\n",
              "      <th>...</th>\n",
              "      <td>...</td>\n",
              "      <td>...</td>\n",
              "      <td>...</td>\n",
              "      <td>...</td>\n",
              "      <td>...</td>\n",
              "      <td>...</td>\n",
              "      <td>...</td>\n",
              "      <td>...</td>\n",
              "      <td>...</td>\n",
              "      <td>...</td>\n",
              "      <td>...</td>\n",
              "      <td>...</td>\n",
              "      <td>...</td>\n",
              "      <td>...</td>\n",
              "      <td>...</td>\n",
              "      <td>...</td>\n",
              "      <td>...</td>\n",
              "      <td>...</td>\n",
              "      <td>...</td>\n",
              "      <td>...</td>\n",
              "      <td>...</td>\n",
              "    </tr>\n",
              "    <tr>\n",
              "      <th>678</th>\n",
              "      <td>april</td>\n",
              "      <td>?</td>\n",
              "      <td>?</td>\n",
              "      <td>?</td>\n",
              "      <td>?</td>\n",
              "      <td>?</td>\n",
              "      <td>upper-areas</td>\n",
              "      <td>?</td>\n",
              "      <td>?</td>\n",
              "      <td>?</td>\n",
              "      <td>...</td>\n",
              "      <td>?</td>\n",
              "      <td>?</td>\n",
              "      <td>?</td>\n",
              "      <td>?</td>\n",
              "      <td>?</td>\n",
              "      <td>?</td>\n",
              "      <td>?</td>\n",
              "      <td>?</td>\n",
              "      <td>?</td>\n",
              "      <td>2-4-d-injury</td>\n",
              "    </tr>\n",
              "    <tr>\n",
              "      <th>679</th>\n",
              "      <td>april</td>\n",
              "      <td>lt-normal</td>\n",
              "      <td>?</td>\n",
              "      <td>lt-norm</td>\n",
              "      <td>?</td>\n",
              "      <td>diff-lst-year</td>\n",
              "      <td>scattered</td>\n",
              "      <td>?</td>\n",
              "      <td>?</td>\n",
              "      <td>?</td>\n",
              "      <td>...</td>\n",
              "      <td>?</td>\n",
              "      <td>dna</td>\n",
              "      <td>?</td>\n",
              "      <td>?</td>\n",
              "      <td>?</td>\n",
              "      <td>?</td>\n",
              "      <td>?</td>\n",
              "      <td>?</td>\n",
              "      <td>rotted</td>\n",
              "      <td>herbicide-injury</td>\n",
              "    </tr>\n",
              "    <tr>\n",
              "      <th>680</th>\n",
              "      <td>june</td>\n",
              "      <td>lt-normal</td>\n",
              "      <td>?</td>\n",
              "      <td>lt-norm</td>\n",
              "      <td>?</td>\n",
              "      <td>diff-lst-year</td>\n",
              "      <td>scattered</td>\n",
              "      <td>?</td>\n",
              "      <td>?</td>\n",
              "      <td>?</td>\n",
              "      <td>...</td>\n",
              "      <td>?</td>\n",
              "      <td>dna</td>\n",
              "      <td>?</td>\n",
              "      <td>?</td>\n",
              "      <td>?</td>\n",
              "      <td>?</td>\n",
              "      <td>?</td>\n",
              "      <td>?</td>\n",
              "      <td>rotted</td>\n",
              "      <td>herbicide-injury</td>\n",
              "    </tr>\n",
              "    <tr>\n",
              "      <th>681</th>\n",
              "      <td>april</td>\n",
              "      <td>lt-normal</td>\n",
              "      <td>?</td>\n",
              "      <td>lt-norm</td>\n",
              "      <td>?</td>\n",
              "      <td>same-lst-yr</td>\n",
              "      <td>whole-field</td>\n",
              "      <td>?</td>\n",
              "      <td>?</td>\n",
              "      <td>?</td>\n",
              "      <td>...</td>\n",
              "      <td>?</td>\n",
              "      <td>dna</td>\n",
              "      <td>?</td>\n",
              "      <td>?</td>\n",
              "      <td>?</td>\n",
              "      <td>?</td>\n",
              "      <td>?</td>\n",
              "      <td>?</td>\n",
              "      <td>rotted</td>\n",
              "      <td>herbicide-injury</td>\n",
              "    </tr>\n",
              "    <tr>\n",
              "      <th>682</th>\n",
              "      <td>june</td>\n",
              "      <td>lt-normal</td>\n",
              "      <td>?</td>\n",
              "      <td>lt-norm</td>\n",
              "      <td>?</td>\n",
              "      <td>same-lst-yr</td>\n",
              "      <td>whole-field</td>\n",
              "      <td>?</td>\n",
              "      <td>?</td>\n",
              "      <td>?</td>\n",
              "      <td>...</td>\n",
              "      <td>?</td>\n",
              "      <td>dna</td>\n",
              "      <td>?</td>\n",
              "      <td>?</td>\n",
              "      <td>?</td>\n",
              "      <td>?</td>\n",
              "      <td>?</td>\n",
              "      <td>?</td>\n",
              "      <td>rotted</td>\n",
              "      <td>herbicide-injury</td>\n",
              "    </tr>\n",
              "  </tbody>\n",
              "</table>\n",
              "<p>683 rows × 36 columns</p>\n",
              "</div>\n",
              "    <div class=\"colab-df-buttons\">\n",
              "\n",
              "  <div class=\"colab-df-container\">\n",
              "    <button class=\"colab-df-convert\" onclick=\"convertToInteractive('df-a8a8740c-58af-4eff-ac5c-df413bca9ca3')\"\n",
              "            title=\"Convert this dataframe to an interactive table.\"\n",
              "            style=\"display:none;\">\n",
              "\n",
              "  <svg xmlns=\"http://www.w3.org/2000/svg\" height=\"24px\" viewBox=\"0 -960 960 960\">\n",
              "    <path d=\"M120-120v-720h720v720H120Zm60-500h600v-160H180v160Zm220 220h160v-160H400v160Zm0 220h160v-160H400v160ZM180-400h160v-160H180v160Zm440 0h160v-160H620v160ZM180-180h160v-160H180v160Zm440 0h160v-160H620v160Z\"/>\n",
              "  </svg>\n",
              "    </button>\n",
              "\n",
              "  <style>\n",
              "    .colab-df-container {\n",
              "      display:flex;\n",
              "      gap: 12px;\n",
              "    }\n",
              "\n",
              "    .colab-df-convert {\n",
              "      background-color: #E8F0FE;\n",
              "      border: none;\n",
              "      border-radius: 50%;\n",
              "      cursor: pointer;\n",
              "      display: none;\n",
              "      fill: #1967D2;\n",
              "      height: 32px;\n",
              "      padding: 0 0 0 0;\n",
              "      width: 32px;\n",
              "    }\n",
              "\n",
              "    .colab-df-convert:hover {\n",
              "      background-color: #E2EBFA;\n",
              "      box-shadow: 0px 1px 2px rgba(60, 64, 67, 0.3), 0px 1px 3px 1px rgba(60, 64, 67, 0.15);\n",
              "      fill: #174EA6;\n",
              "    }\n",
              "\n",
              "    .colab-df-buttons div {\n",
              "      margin-bottom: 4px;\n",
              "    }\n",
              "\n",
              "    [theme=dark] .colab-df-convert {\n",
              "      background-color: #3B4455;\n",
              "      fill: #D2E3FC;\n",
              "    }\n",
              "\n",
              "    [theme=dark] .colab-df-convert:hover {\n",
              "      background-color: #434B5C;\n",
              "      box-shadow: 0px 1px 3px 1px rgba(0, 0, 0, 0.15);\n",
              "      filter: drop-shadow(0px 1px 2px rgba(0, 0, 0, 0.3));\n",
              "      fill: #FFFFFF;\n",
              "    }\n",
              "  </style>\n",
              "\n",
              "    <script>\n",
              "      const buttonEl =\n",
              "        document.querySelector('#df-a8a8740c-58af-4eff-ac5c-df413bca9ca3 button.colab-df-convert');\n",
              "      buttonEl.style.display =\n",
              "        google.colab.kernel.accessAllowed ? 'block' : 'none';\n",
              "\n",
              "      async function convertToInteractive(key) {\n",
              "        const element = document.querySelector('#df-a8a8740c-58af-4eff-ac5c-df413bca9ca3');\n",
              "        const dataTable =\n",
              "          await google.colab.kernel.invokeFunction('convertToInteractive',\n",
              "                                                    [key], {});\n",
              "        if (!dataTable) return;\n",
              "\n",
              "        const docLinkHtml = 'Like what you see? Visit the ' +\n",
              "          '<a target=\"_blank\" href=https://colab.research.google.com/notebooks/data_table.ipynb>data table notebook</a>'\n",
              "          + ' to learn more about interactive tables.';\n",
              "        element.innerHTML = '';\n",
              "        dataTable['output_type'] = 'display_data';\n",
              "        await google.colab.output.renderOutput(dataTable, element);\n",
              "        const docLink = document.createElement('div');\n",
              "        docLink.innerHTML = docLinkHtml;\n",
              "        element.appendChild(docLink);\n",
              "      }\n",
              "    </script>\n",
              "  </div>\n",
              "\n",
              "\n",
              "<div id=\"df-15de1c41-e145-4ca5-8775-4bb1ad2bd950\">\n",
              "  <button class=\"colab-df-quickchart\" onclick=\"quickchart('df-15de1c41-e145-4ca5-8775-4bb1ad2bd950')\"\n",
              "            title=\"Suggest charts.\"\n",
              "            style=\"display:none;\">\n",
              "\n",
              "<svg xmlns=\"http://www.w3.org/2000/svg\" height=\"24px\"viewBox=\"0 0 24 24\"\n",
              "     width=\"24px\">\n",
              "    <g>\n",
              "        <path d=\"M19 3H5c-1.1 0-2 .9-2 2v14c0 1.1.9 2 2 2h14c1.1 0 2-.9 2-2V5c0-1.1-.9-2-2-2zM9 17H7v-7h2v7zm4 0h-2V7h2v10zm4 0h-2v-4h2v4z\"/>\n",
              "    </g>\n",
              "</svg>\n",
              "  </button>\n",
              "\n",
              "<style>\n",
              "  .colab-df-quickchart {\n",
              "    background-color: #E8F0FE;\n",
              "    border: none;\n",
              "    border-radius: 50%;\n",
              "    cursor: pointer;\n",
              "    display: none;\n",
              "    fill: #1967D2;\n",
              "    height: 32px;\n",
              "    padding: 0 0 0 0;\n",
              "    width: 32px;\n",
              "  }\n",
              "\n",
              "  .colab-df-quickchart:hover {\n",
              "    background-color: #E2EBFA;\n",
              "    box-shadow: 0px 1px 2px rgba(60, 64, 67, 0.3), 0px 1px 3px 1px rgba(60, 64, 67, 0.15);\n",
              "    fill: #174EA6;\n",
              "  }\n",
              "\n",
              "  [theme=dark] .colab-df-quickchart {\n",
              "    background-color: #3B4455;\n",
              "    fill: #D2E3FC;\n",
              "  }\n",
              "\n",
              "  [theme=dark] .colab-df-quickchart:hover {\n",
              "    background-color: #434B5C;\n",
              "    box-shadow: 0px 1px 3px 1px rgba(0, 0, 0, 0.15);\n",
              "    filter: drop-shadow(0px 1px 2px rgba(0, 0, 0, 0.3));\n",
              "    fill: #FFFFFF;\n",
              "  }\n",
              "</style>\n",
              "\n",
              "  <script>\n",
              "    async function quickchart(key) {\n",
              "      const charts = await google.colab.kernel.invokeFunction(\n",
              "          'suggestCharts', [key], {});\n",
              "    }\n",
              "    (() => {\n",
              "      let quickchartButtonEl =\n",
              "        document.querySelector('#df-15de1c41-e145-4ca5-8775-4bb1ad2bd950 button');\n",
              "      quickchartButtonEl.style.display =\n",
              "        google.colab.kernel.accessAllowed ? 'block' : 'none';\n",
              "    })();\n",
              "  </script>\n",
              "</div>\n",
              "    </div>\n",
              "  </div>\n"
            ]
          },
          "metadata": {},
          "execution_count": 3
        }
      ]
    },
    {
      "cell_type": "code",
      "source": [
        "dataframe['class'].unique() # Todos os tipos diferentes de doenças em plantas"
      ],
      "metadata": {
        "colab": {
          "base_uri": "https://localhost:8080/"
        },
        "id": "dS5rlcOX2cCm",
        "outputId": "e6d00fdb-6448-4607-cf3e-20fb4cd8534b"
      },
      "execution_count": 4,
      "outputs": [
        {
          "output_type": "execute_result",
          "data": {
            "text/plain": [
              "array(['diaporthe-stem-canker', 'charcoal-rot', 'rhizoctonia-root-rot',\n",
              "       'phytophthora-rot', 'brown-stem-rot', 'powdery-mildew',\n",
              "       'downy-mildew', 'brown-spot', 'bacterial-blight',\n",
              "       'bacterial-pustule', 'purple-seed-stain', 'anthracnose',\n",
              "       'phyllosticta-leaf-spot', 'alternarialeaf-spot',\n",
              "       'frog-eye-leaf-spot', 'diaporthe-pod-&-stem-blight',\n",
              "       'cyst-nematode', '2-4-d-injury', 'herbicide-injury'], dtype=object)"
            ]
          },
          "metadata": {},
          "execution_count": 4
        }
      ]
    },
    {
      "cell_type": "code",
      "source": [
        "# Criar um objeto LabelEncoder\n",
        "label_encoder = LabelEncoder()\n",
        "\n",
        "# Aplicar o LabelEncoder à coluna 'class'\n",
        "dataframe['class_encoded'] = label_encoder.fit_transform(dataframe['class'])"
      ],
      "metadata": {
        "id": "X81BVBfg28G5"
      },
      "execution_count": 5,
      "outputs": []
    },
    {
      "cell_type": "code",
      "source": [
        "# Lista com todas as labels das colunas\n",
        "lista_labels = dataframe.drop(columns=['class','class_encoded'])\n",
        "lista_labels = lista_labels.columns.tolist()"
      ],
      "metadata": {
        "id": "rqUVF8OE4xuD"
      },
      "execution_count": 6,
      "outputs": []
    },
    {
      "cell_type": "code",
      "source": [
        "X = dataframe[lista_labels]\n",
        "y = dataframe['class_encoded']"
      ],
      "metadata": {
        "id": "9Fmagnl7GvnW"
      },
      "execution_count": 7,
      "outputs": []
    },
    {
      "cell_type": "markdown",
      "source": [
        "### Naive Bayes"
      ],
      "metadata": {
        "id": "m2r3gMf3HDrb"
      }
    },
    {
      "cell_type": "code",
      "source": [
        "# Transformar as colunas categóricas em variáveis dummy\n",
        "X_encoded = pd.get_dummies(X, columns=lista_labels, drop_first=True)"
      ],
      "metadata": {
        "id": "tIJI3SSFHid8"
      },
      "execution_count": 8,
      "outputs": []
    },
    {
      "cell_type": "code",
      "source": [
        "# Dividir os dados em treino e teste\n",
        "X_train, X_test, y_train, y_test = train_test_split(X_encoded, y, test_size=0.2, random_state=42)\n",
        "\n",
        "# Criar um classificador Naive Bayes (Gaussian Naive Bayes)\n",
        "nb_classifier = GaussianNB()\n",
        "\n",
        "# Treinar o classificador usando os dados de treino\n",
        "nb_classifier.fit(X_train, y_train)\n",
        "\n",
        "# Fazer previsões usando os dados de teste\n",
        "y_pred = nb_classifier.predict(X_test)\n",
        "\n",
        "# Calcular a acurácia das previsões\n",
        "accuracy = accuracy_score(y_test, y_pred)\n",
        "print(f\"Acurácia do Naive Bayes: {accuracy:.2f}\")"
      ],
      "metadata": {
        "colab": {
          "base_uri": "https://localhost:8080/"
        },
        "id": "qiIQSz8KHQ89",
        "outputId": "c4f3f454-0b9e-4f01-f189-7a0b89d3fc41"
      },
      "execution_count": 9,
      "outputs": [
        {
          "output_type": "stream",
          "name": "stdout",
          "text": [
            "Acurácia do Naive Bayes: 0.96\n"
          ]
        }
      ]
    },
    {
      "cell_type": "markdown",
      "source": [
        "### Rede Neural"
      ],
      "metadata": {
        "id": "U3uXmixsJNbX"
      }
    },
    {
      "cell_type": "code",
      "source": [
        "X = dataframe[lista_labels]\n",
        "y = dataframe['class_encoded']"
      ],
      "metadata": {
        "id": "wXJaLef3NdFk"
      },
      "execution_count": 10,
      "outputs": []
    },
    {
      "cell_type": "code",
      "source": [
        "# Converter colunas categóricas em one-hot encoding\n",
        "X_encoded = pd.get_dummies(X, columns=lista_labels, drop_first=True)\n",
        "\n",
        "# Pré-processamento dos dados\n",
        "scaler = StandardScaler()\n",
        "X_scaled = scaler.fit_transform(X_encoded)\n",
        "y_encoded = to_categorical(y)  # Transformar as classes em one-hot encoding\n",
        "\n",
        "# Dividir o conjunto de dados em treino e teste\n",
        "X_train, X_test, y_train, y_test = train_test_split(X_scaled, y_encoded, test_size=0.2, random_state=42)\n",
        "\n",
        "# Construir o modelo da rede neural\n",
        "model = Sequential()\n",
        "model.add(Dense(64, activation='relu', input_dim=X_train.shape[1]))\n",
        "model.add(Dense(32, activation='relu'))\n",
        "model.add(Dense(len(np.unique(y)), activation='softmax'))  # O número de neurônios de saída é igual ao número de classes\n",
        "\n",
        "# Compilar o modelo\n",
        "model.compile(optimizer='adam', loss='categorical_crossentropy', metrics=['accuracy'])\n",
        "model.summary()"
      ],
      "metadata": {
        "colab": {
          "base_uri": "https://localhost:8080/"
        },
        "id": "9PpqaSGUPE0h",
        "outputId": "9e3a420c-8965-49cf-b302-338ecea9d47f"
      },
      "execution_count": 11,
      "outputs": [
        {
          "output_type": "stream",
          "name": "stdout",
          "text": [
            "Model: \"sequential\"\n",
            "_________________________________________________________________\n",
            " Layer (type)                Output Shape              Param #   \n",
            "=================================================================\n",
            " dense (Dense)               (None, 64)                6336      \n",
            "                                                                 \n",
            " dense_1 (Dense)             (None, 32)                2080      \n",
            "                                                                 \n",
            " dense_2 (Dense)             (None, 19)                627       \n",
            "                                                                 \n",
            "=================================================================\n",
            "Total params: 9,043\n",
            "Trainable params: 9,043\n",
            "Non-trainable params: 0\n",
            "_________________________________________________________________\n"
          ]
        }
      ]
    },
    {
      "cell_type": "code",
      "source": [
        "# Treinando a Rede Neural\n",
        "%time history = model.fit(X_train, y_train,epochs=120,verbose=False,validation_split=0.2,batch_size=X_train.shape[0])"
      ],
      "metadata": {
        "colab": {
          "base_uri": "https://localhost:8080/"
        },
        "id": "u41NmA1cPXQ4",
        "outputId": "6e4b7661-4893-44c1-ad7b-94d0240c4740"
      },
      "execution_count": 12,
      "outputs": [
        {
          "output_type": "stream",
          "name": "stdout",
          "text": [
            "CPU times: user 7.84 s, sys: 182 ms, total: 8.03 s\n",
            "Wall time: 14.5 s\n"
          ]
        }
      ]
    },
    {
      "cell_type": "code",
      "source": [
        "loss, accuracy = model.evaluate(X_train, y_train, verbose=False)\n",
        "Ein = 1 - accuracy\n",
        "print('Ein: %0.4f' % (1 - accuracy))\n",
        "\n",
        "loss, accuracy = model.evaluate(X_test, y_test, verbose=False)\n",
        "Eout = 1 - accuracy\n",
        "print('Eout: %0.4f' % (1 - accuracy))\n",
        "print('Generalização: %0.4f' % abs(Ein - Eout))"
      ],
      "metadata": {
        "colab": {
          "base_uri": "https://localhost:8080/"
        },
        "id": "OvhY8y1JQLtv",
        "outputId": "930f7765-8812-49a3-c98f-ca7f46203795"
      },
      "execution_count": 13,
      "outputs": [
        {
          "output_type": "stream",
          "name": "stdout",
          "text": [
            "Ein: 0.0275\n",
            "Eout: 0.0365\n",
            "Generalização: 0.0090\n"
          ]
        }
      ]
    },
    {
      "cell_type": "code",
      "source": [
        "loss, accuracy = model.evaluate(X_train, y_train, verbose=False)\n",
        "print('Acurácia de treino: %0.4f' % (accuracy))\n",
        "loss, accuracy = model.evaluate(X_test, y_test, verbose=False)\n",
        "print('Acurácia de teste: %0.4f' % (accuracy))"
      ],
      "metadata": {
        "colab": {
          "base_uri": "https://localhost:8080/"
        },
        "id": "T4XypI8TQPfa",
        "outputId": "642f1f53-e735-4c43-8331-ace9d29c2434"
      },
      "execution_count": 14,
      "outputs": [
        {
          "output_type": "stream",
          "name": "stdout",
          "text": [
            "Acurácia de treino: 0.9725\n",
            "Acurácia de teste: 0.9635\n"
          ]
        }
      ]
    },
    {
      "cell_type": "code",
      "source": [
        "plt.style.use('ggplot')\n",
        "\n",
        "def plot_history(history):\n",
        "    acc = history.history['accuracy']\n",
        "    val_acc = history.history['val_accuracy']\n",
        "    loss = history.history['loss']\n",
        "    val_loss = history.history['val_loss']\n",
        "    x = range(1, len(acc) + 1)\n",
        "    plt.figure(figsize=(12, 5))\n",
        "    plt.subplot(1, 2, 1)\n",
        "    plt.plot(x, acc, 'b', label='Treino acc')\n",
        "    plt.plot(x, val_acc, 'r', label='Validação acc')\n",
        "    plt.title('Acurácia de treinamento e validação')\n",
        "    plt.legend()\n",
        "    plt.subplot(1, 2, 2)\n",
        "    plt.plot(x, loss, 'b', label='Treino loss')\n",
        "    plt.plot(x, val_loss, 'r', label='Validação loss')\n",
        "    plt.title('Erro de treinamento e validação')\n",
        "    plt.legend()"
      ],
      "metadata": {
        "id": "M3NCPAIXQRFg"
      },
      "execution_count": 15,
      "outputs": []
    },
    {
      "cell_type": "code",
      "source": [
        " plot_history(history)"
      ],
      "metadata": {
        "colab": {
          "base_uri": "https://localhost:8080/",
          "height": 470
        },
        "id": "f1lt1uV4QUnC",
        "outputId": "d5838c0e-ef46-4d08-ceba-bea0043fe97f"
      },
      "execution_count": 17,
      "outputs": [
        {
          "output_type": "display_data",
          "data": {
            "text/plain": [
              "<Figure size 1200x500 with 2 Axes>"
            ],
            "image/png": "[encoded data removed]"
          },
          "metadata": {}
        }
      ]
    }
  ]
}